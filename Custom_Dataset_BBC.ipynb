{
 "cells": [
  {
   "cell_type": "markdown",
   "metadata": {},
   "source": [
    "# Training on Custom Dataset"
   ]
  },
  {
   "cell_type": "markdown",
   "metadata": {},
   "source": [
    "Training the model on BBC extractive summaries dataset after required preprocessing"
   ]
  },
  {
   "cell_type": "code",
   "execution_count": null,
   "metadata": {
    "id": "DKtwjRK7O3Yt"
   },
   "outputs": [],
   "source": [
    "#Required Imports for dataset analysis plots and file handling\n",
    "import os\n",
    "import matplotlib.pyplot as plt\n",
    "import seaborn as sns"
   ]
  },
  {
   "cell_type": "code",
   "execution_count": null,
   "metadata": {
    "colab": {
     "base_uri": "https://localhost:8080/",
     "height": 681
    },
    "id": "JhvFkZiIDXwD",
    "outputId": "3c78e679-ff8b-4378-aaae-a6556b7ee9d7"
   },
   "outputs": [
    {
     "data": {
      "text/plain": [
       "[Text(0, 0, 'tech'),\n",
       " Text(0, 0, 'business'),\n",
       " Text(0, 0, 'sport'),\n",
       " Text(0, 0, 'politics'),\n",
       " Text(0, 0, 'entertainment')]"
      ]
     },
     "execution_count": 3,
     "metadata": {
      "tags": []
     },
     "output_type": "execute_result"
    },
    {
     "data": {
      "image/png": "[encoded data removed]",
      "text/plain": [
       "<Figure size 1152x720 with 1 Axes>"
      ]
     },
     "metadata": {
      "needs_background": "light",
      "tags": []
     },
     "output_type": "display_data"
    }
   ],
   "source": [
    "#BBC News Summary Dataset distribution across 5 categories\n",
    "\n",
    "#Set the path to the BBC dataset\n",
    "BBC_DATA_PATH = \"/\"\n",
    "\n",
    "classes = os.listdir( BBC_DATA_PATH + \"/BBC News Summary/News Articles\")\n",
    "no_1=[]\n",
    "for cat in classes:\n",
    "  no_1.append(len(os.listdir( BBC_DATA_PATH + \"/BBC News Summary/News Articles/\"+str(cat))))\n",
    "plt.figure(figsize=(16,10))\n",
    "dist = sns.barplot(x=classes,y=no_1,palette='coolwarm')\n",
    "dist.set_xticklabels(dist.get_xticklabels(),rotation=0)"
   ]
  },
  {
   "cell_type": "markdown",
   "metadata": {
    "id": "FkGVs3e_N3eY"
   },
   "source": [
    "The following 5 cells are for preparing the dataset in the format required before preprocessing. This requires the one text file per sample with the news article at the top and each corresponding summary at the bottom under \"@highlight\" tags. An example is as follows:\n",
    "\n",
    "Veteran Martinez wins Thai title\n",
    "\n",
    "Conchita Martinez won her first title in almost five years with victory over Anna-Lena Groenefeld at the Volvo Women's Open in Pattaya, Thailand.\n",
    "\n",
    "The 32-year-old Spaniard came through 6-3 3-6 6-3 for her first title since Berlin in 2000. \"It feels really good,\" said Martinez, who is playing her last season on the Tour. \"To come through like that in an important match feels good. \"It's been nearly five years and I didn't think I could do it.\" Groenefeld was the more powerful player but could not match her opponent's relentless accuracy. \"It was my first final, a new experience,\" said the German. \"I think she played a good match, a tough match, but I tried to stay in there. I think the whole week was good for me.\"\n",
    "\n",
    "@highlight\n",
    "\n",
    "\"To come through like that in an important match feels good\n",
    "\n",
    "@highlight\n",
    "\n",
    "\"\"I think she played a good match, a tough match, but I tried to stay in there\n",
    "\n",
    "@highlight\n",
    "\n",
    "Groenefeld was the more powerful player but could not match her opponent's relentless accuracy\n"
   ]
  },
  {
   "cell_type": "code",
   "execution_count": null,
   "metadata": {
    "id": "UCcu8zDajwB3"
   },
   "outputs": [],
   "source": [
    "for filename in os.listdir(BBC_DATA_PATH + \"/BBC News Summary/News Articles/business\"):\n",
    "  with open(BBC_DATA_PATH + \"/BBC News Summary/Summaries/business/\"+filename) as f1:\n",
    "    with open(BBC_DATA_PATH + \"/BBC News Summary/News Articles/business/\"+filename,'a') as f2:\n",
    "      for line in f1:\n",
    "        lines = line.split('.')\n",
    "        lines.sort(key = len)\n",
    "        lines = lines[-3:]\n",
    "        for summ in lines:\n",
    "          f2.write(\"\\n\")\n",
    "          f2.write(\"@highlight\\n\")\n",
    "          f2.write(\"\\n\")\n",
    "          f2.write(summ+\"\\n\") "
   ]
  },
  {
   "cell_type": "code",
   "execution_count": null,
   "metadata": {
    "id": "KhX9Y53ft2V3"
   },
   "outputs": [],
   "source": [
    "for filename in os.listdir(BBC_DATA_PATH + \"/BBC/BBC News Summary/News Articles/entertainment\"):\n",
    "  with open(BBC_DATA_PATH + \"/BBC/BBC News Summary/Summaries/entertainment/\"+filename) as f1:\n",
    "    with open( BBC_DATA_PATH + \"/BBC News Summary/News Articles/entertainment/\"+filename,'a') as f2:\n",
    "      for line in f1:\n",
    "        lines = line.split('.')\n",
    "        lines.sort(key = len)\n",
    "        lines = lines[-3:]\n",
    "        for summ in lines:\n",
    "          f2.write(\"\\n\")\n",
    "          f2.write(\"@highlight\\n\")\n",
    "          f2.write(\"\\n\")\n",
    "          f2.write(summ+\"\\n\") "
   ]
  },
  {
   "cell_type": "code",
   "execution_count": null,
   "metadata": {
    "id": "gYGNTC3mt2c4"
   },
   "outputs": [],
   "source": [
    "for filename in os.listdir( BBC_DATA_PATH + \"/BBC News Summary/News Articles/politics\"):\n",
    "  with open( BBC_DATA_PATH + \"/BBC News Summary/Summaries/politics/\"+filename) as f1:\n",
    "    with open( BBC_DATA_PATH + \"/BBC News Summary/News Articles/politics/\"+filename,'a') as f2:\n",
    "      for line in f1:\n",
    "        lines = line.split('.')\n",
    "        lines.sort(key = len)\n",
    "        lines = lines[-3:]\n",
    "        for summ in lines:\n",
    "          f2.write(\"\\n\")\n",
    "          f2.write(\"@highlight\\n\")\n",
    "          f2.write(\"\\n\")\n",
    "          f2.write(summ+\"\\n\") "
   ]
  },
  {
   "cell_type": "code",
   "execution_count": null,
   "metadata": {
    "id": "kCpJsVkwt2jf"
   },
   "outputs": [],
   "source": [
    "for filename in os.listdir( BBC_DATA_PATH + \"/BBC News Summary/News Articles/sport\"):\n",
    "  with open( BBC_DATA_PATH + \"/BBC News Summary/Summaries/sport/\"+filename) as f1:\n",
    "    with open( BBC_DATA_PATH + \"/BBC News Summary/News Articles/sport/\"+filename,'a') as f2:\n",
    "      for line in f1:\n",
    "        lines = line.split('.')\n",
    "        lines.sort(key = len)\n",
    "        lines = lines[-3:]\n",
    "        for summ in lines:\n",
    "          f2.write(\"\\n\")\n",
    "          f2.write(\"@highlight\\n\")\n",
    "          f2.write(\"\\n\")\n",
    "          f2.write(summ+\"\\n\") "
   ]
  },
  {
   "cell_type": "code",
   "execution_count": null,
   "metadata": {
    "id": "pj1vncvAt2q2"
   },
   "outputs": [],
   "source": [
    "for filename in os.listdir( BBC_DATA_PATH + \"/BBC News Summary/News Articles/tech\"):\n",
    "  with open( BBC_DATA_PATH + \"/BBC News Summary/Summaries/tech/\"+filename) as f1:\n",
    "    with open( BBC_DATA_PATH + \"/BBC News Summary/News Articles/tech/\"+filename,'a') as f2:\n",
    "      for line in f1:\n",
    "        lines = line.split('.')\n",
    "        lines.sort(key = len)\n",
    "        lines = lines[-3:]\n",
    "        for summ in lines:\n",
    "          f2.write(\"\\n\")\n",
    "          f2.write(\"@highlight\\n\")\n",
    "          f2.write(\"\\n\")\n",
    "          f2.write(summ+\"\\n\") "
   ]
  },
  {
   "cell_type": "code",
   "execution_count": null,
   "metadata": {
    "id": "mhb4goOMIk3Q"
   },
   "outputs": [],
   "source": [
    "#Running a test on the imported StanfordCoreNLP tools for tokenization\n",
    "!echo \"Please tokenize this text.\" | java -cp ]stanford-corenlp-4.2.0/stanford-corenlp-4.2.0.jar edu.stanford.nlp.process.PTBTokenizer"
   ]
  },
  {
   "cell_type": "code",
   "execution_count": null,
   "metadata": {
    "id": "7Dgi-mGpdE8j"
   },
   "outputs": [],
   "source": [
    "#Adding \".story\" extensions to prepared files\n",
    "\n",
    "#Set the CUSTOM_DATA_PATH\n",
    "CUSTOM_DATA_PATH = \"/\"\n",
    "\n",
    "path = CUSTOM_DATA_PATH\n",
    "files = os.listdir(path)\n",
    "\n",
    "\n",
    "for index, file in enumerate(files):\n",
    "  #print(index,file[:-3])\n",
    "  os.rename(os.path.join(path, file), os.path.join(path, ''.join([file[:-4], '.story'])))"
   ]
  },
  {
   "cell_type": "markdown",
   "metadata": {
    "id": "SuwDW_xWP5xO"
   },
   "source": [
    "## DATA PRE-PROCESSING"
   ]
  },
  {
   "cell_type": "code",
   "execution_count": null,
   "metadata": {
    "id": "CDhH6g1pKqI6"
   },
   "outputs": [],
   "source": [
    "#Sentence Splitting and Tokenization\n",
    "#The outputs are the samples tokenized saved as json files\n",
    "#Set the paths indicated in all caps\n",
    "!python preprocess.py -mode tokenize -raw_path CUSTOM_DATA_PATH -save_path SAVE_PATH"
   ]
  },
  {
   "cell_type": "code",
   "execution_count": null,
   "metadata": {
    "id": "j9D0GJE6k6IP"
   },
   "outputs": [],
   "source": [
    "#Format to Simpler Json Files\n",
    "#Set the paths indicated in all caps\n",
    "!python preprocess.py -mode format_to_lines -raw_path CUSTOM_TOKENIZED_PATH -save_path JSON_SAVE_PATH -n_cpus 1 -use_bert_basic_tokenizer false"
   ]
  },
  {
   "cell_type": "code",
   "execution_count": null,
   "metadata": {
    "id": "9VL0ahxJqi_U"
   },
   "outputs": [],
   "source": [
    "#Formatting to PyTorch Files (.pt) as final step of data preprocessing\n",
    "#Since dataset is relatively smaller, we have used its entirety for training data\n",
    "#Set the paths indicated in all caps\n",
    "!python preprocess.py -mode format_to_bert -raw_path JSON_DATA_PATH -save_path PT_SAVE_PATH -lower -n_cpus 1 -log_file ../logs/preprocess.log"
   ]
  },
  {
   "cell_type": "markdown",
   "metadata": {
    "id": "eC0DERyIQq6K"
   },
   "source": [
    "## MODEL TRAINING "
   ]
  },
  {
   "cell_type": "code",
   "execution_count": null,
   "metadata": {
    "colab": {
     "background_save": true
    },
    "id": "90wc2rtOuHy_"
   },
   "outputs": [],
   "source": [
    "#Set the paths indicated in all caps\n",
    "!python train.py -task ext -mode train -bert_data_path BERT_DATA_PATH -ext_dropout 0.1 -model_path MODEL_PATH -lr 2e-3 -visible_gpus 0 -report_every 50 -save_checkpoint_steps 1000 -batch_size 300 -train_steps 10000 -accum_count 5 -log_file ../logs/custom -use_interval true -warmup_steps 10000 -max_pos 512"
   ]
  },
  {
   "cell_type": "markdown",
   "metadata": {
    "id": "RrfRzUM_Q0DQ"
   },
   "source": [
    "## GENERATING SUMMARIES FROM RAW TEXT INPUT HERE"
   ]
  },
  {
   "cell_type": "code",
   "execution_count": null,
   "metadata": {
    "id": "1391GaCy3TM7"
   },
   "outputs": [],
   "source": [
    "#Set the paths indicated in all caps\n",
    "!python train.py -task ext -mode test_text -text_src TEXT_SRC_PATH -result_path RESULT_PATH -test_from MODEL_CKPT_PATH"
   ]
  }
 ],
 "metadata": {
  "colab": {
   "collapsed_sections": [],
   "name": "task4_customdataset.ipynb",
   "provenance": []
  },
  "kernelspec": {
   "display_name": "Python 3",
   "language": "python",
   "name": "python3"
  },
  "language_info": {
   "codemirror_mode": {
    "name": "ipython",
    "version": 3
   },
   "file_extension": ".py",
   "mimetype": "text/x-python",
   "name": "python",
   "nbconvert_exporter": "python",
   "pygments_lexer": "ipython3",
   "version": "3.7.6"
  }
 },
 "nbformat": 4,
 "nbformat_minor": 1
}
