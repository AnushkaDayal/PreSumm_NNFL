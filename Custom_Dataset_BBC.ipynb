{
 "cells": [
  {
   "cell_type": "markdown",
   "metadata": {},
   "source": [
    "# Training the model on a Custom Dataset (BBC)"
   ]
  },
  {
   "cell_type": "code",
   "execution_count": null,
   "metadata": {
    "id": "DKtwjRK7O3Yt"
   },
   "outputs": [],
   "source": [
    "import os"
   ]
  },
  {
   "cell_type": "markdown",
   "metadata": {},
   "source": [
    "### Preprocessing"
   ]
  },
  {
   "cell_type": "code",
   "execution_count": null,
   "metadata": {
    "id": "UCcu8zDajwB3"
   },
   "outputs": [],
   "source": [
    "#Converting each text document into a relevant format to pass for training\n",
    "\n",
    "for filename in os.listdir(\"/content/drive/MyDrive/nlpyang/BBC/BBC News Summary/News Articles/business\"):\n",
    "  with open(\"/content/drive/MyDrive/nlpyang/BBC/BBC News Summary/Summaries/business/\"+filename) as f1:\n",
    "    with open(\"/content/drive/MyDrive/nlpyang/BBC/BBC News Summary/News Articles/business/\"+filename,'a') as f2:\n",
    "      for line in f1:\n",
    "        lines = line.split('.')\n",
    "        lines.sort(key = len)\n",
    "        lines = lines[-3:]\n",
    "        for summ in lines:\n",
    "          f2.write(\"\\n\")\n",
    "          f2.write(\"@highlight\\n\")\n",
    "          f2.write(\"\\n\")\n",
    "          f2.write(summ+\"\\n\") "
   ]
  },
  {
   "cell_type": "code",
   "execution_count": null,
   "metadata": {
    "id": "KhX9Y53ft2V3"
   },
   "outputs": [],
   "source": [
    "for filename in os.listdir(\"/content/drive/MyDrive/nlpyang/BBC/BBC News Summary/News Articles/entertainment\"):\n",
    "  with open(\"/content/drive/MyDrive/nlpyang/BBC/BBC News Summary/Summaries/entertainment/\"+filename) as f1:\n",
    "    with open(\"/content/drive/MyDrive/nlpyang/BBC/BBC News Summary/News Articles/entertainment/\"+filename,'a') as f2:\n",
    "      for line in f1:\n",
    "        lines = line.split('.')\n",
    "        lines.sort(key = len)\n",
    "        lines = lines[-3:]\n",
    "        for summ in lines:\n",
    "          f2.write(\"\\n\")\n",
    "          f2.write(\"@highlight\\n\")\n",
    "          f2.write(\"\\n\")\n",
    "          f2.write(summ+\"\\n\") "
   ]
  },
  {
   "cell_type": "code",
   "execution_count": null,
   "metadata": {
    "id": "gYGNTC3mt2c4"
   },
   "outputs": [],
   "source": [
    "for filename in os.listdir(\"/content/drive/MyDrive/nlpyang/BBC/BBC News Summary/News Articles/politics\"):\n",
    "  with open(\"/content/drive/MyDrive/nlpyang/BBC/BBC News Summary/Summaries/politics/\"+filename) as f1:\n",
    "    with open(\"/content/drive/MyDrive/nlpyang/BBC/BBC News Summary/News Articles/politics/\"+filename,'a') as f2:\n",
    "      for line in f1:\n",
    "        lines = line.split('.')\n",
    "        lines.sort(key = len)\n",
    "        lines = lines[-3:]\n",
    "        for summ in lines:\n",
    "          f2.write(\"\\n\")\n",
    "          f2.write(\"@highlight\\n\")\n",
    "          f2.write(\"\\n\")\n",
    "          f2.write(summ+\"\\n\") "
   ]
  },
  {
   "cell_type": "code",
   "execution_count": null,
   "metadata": {
    "colab": {
     "base_uri": "https://localhost:8080/",
     "height": 239
    },
    "id": "kCpJsVkwt2jf",
    "outputId": "bd76cb40-e771-4554-856c-a444212cf612"
   },
   "outputs": [],
   "source": [
    "for filename in os.listdir(\"/content/drive/MyDrive/nlpyang/BBC/BBC News Summary/News Articles/sport\"):\n",
    "  with open(\"/content/drive/MyDrive/nlpyang/BBC/BBC News Summary/Summaries/sport/\"+filename) as f1:\n",
    "    with open(\"/content/drive/MyDrive/nlpyang/BBC/BBC News Summary/News Articles/sport/\"+filename,'a') as f2:\n",
    "      for line in f1:\n",
    "        lines = line.split('.')\n",
    "        lines.sort(key = len)\n",
    "        lines = lines[-3:]\n",
    "        for summ in lines:\n",
    "          f2.write(\"\\n\")\n",
    "          f2.write(\"@highlight\\n\")\n",
    "          f2.write(\"\\n\")\n",
    "          f2.write(summ+\"\\n\") "
   ]
  },
  {
   "cell_type": "code",
   "execution_count": null,
   "metadata": {
    "id": "pj1vncvAt2q2"
   },
   "outputs": [],
   "source": [
    "for filename in os.listdir(\"/content/drive/MyDrive/nlpyang/BBC/BBC News Summary/News Articles/tech\"):\n",
    "  with open(\"/content/drive/MyDrive/nlpyang/BBC/BBC News Summary/Summaries/tech/\"+filename) as f1:\n",
    "    with open(\"/content/drive/MyDrive/nlpyang/BBC/BBC News Summary/News Articles/tech/\"+filename,'a') as f2:\n",
    "      for line in f1:\n",
    "        lines = line.split('.')\n",
    "        lines.sort(key = len)\n",
    "        lines = lines[-3:]\n",
    "        for summ in lines:\n",
    "          f2.write(\"\\n\")\n",
    "          f2.write(\"@highlight\\n\")\n",
    "          f2.write(\"\\n\")\n",
    "          f2.write(summ+\"\\n\") "
   ]
  },
  {
   "cell_type": "code",
   "execution_count": null,
   "metadata": {
    "colab": {
     "base_uri": "https://localhost:8080/",
     "height": 150
    },
    "id": "bAk6H40XHEhz",
    "outputId": "751dab0b-58b0-4001-d831-cd7084b60198"
   },
   "outputs": [],
   "source": [
    "export CLASSPATH=/content/drive/MyDrive/nlpyang/BBC/BBC News Summary/stanford-corenlp-4.2.0/stanford-corenlp-4.2.0.jar"
   ]
  },
  {
   "cell_type": "code",
   "execution_count": null,
   "metadata": {
    "colab": {
     "base_uri": "https://localhost:8080/"
    },
    "id": "mhb4goOMIk3Q",
    "outputId": "7ec8d667-119a-4093-d53d-cfa501a817c6"
   },
   "outputs": [],
   "source": [
    "!echo \"Please tokenize this text.\" | java -cp /content/drive/MyDrive/nlpyang/stanford-corenlp-4.2.0/stanford-corenlp-4.2.0.jar edu.stanford.nlp.process.PTBTokenizer"
   ]
  },
  {
   "cell_type": "code",
   "execution_count": null,
   "metadata": {
    "colab": {
     "base_uri": "https://localhost:8080/",
     "height": 132
    },
    "id": "qkn-5vkzYKHc",
    "outputId": "b2a45872-2fa8-46a4-9eb7-eb0f637fa146"
   },
   "outputs": [],
   "source": [
    "set CLASSPATH -cp /content/drive/MyDrive/nlpyang/stanford-corenlp-4.2.0/stanford-corenlp-4.2.0.jar"
   ]
  },
  {
   "cell_type": "code",
   "execution_count": null,
   "metadata": {
    "id": "7Dgi-mGpdE8j"
   },
   "outputs": [],
   "source": [
    "import os\n",
    "path = '/content/drive/MyDrive/nlpyang/PreSumm-master/custom_data'\n",
    "files = os.listdir(path)\n",
    "\n",
    "\n",
    "for index, file in enumerate(files):\n",
    "  os.rename(os.path.join(path, file), os.path.join(path, ''.join([file[:-4], '.story'])))"
   ]
  },
  {
   "cell_type": "code",
   "execution_count": null,
   "metadata": {
    "colab": {
     "base_uri": "https://localhost:8080/"
    },
    "id": "CDhH6g1pKqI6",
    "outputId": "556a03a6-28d7-46f8-ecf8-847f7269ce4b"
   },
   "outputs": [],
   "source": [
    "!python /content/drive/MyDrive/nlpyang/PreSumm-master/src/preprocess.py -mode tokenize -raw_path /content/drive/MyDrive/nlpyang/PreSumm-master/custom_data -save_path /content/drive/MyDrive/nlpyang/PreSumm-master/custom_tokenized"
   ]
  },
  {
   "cell_type": "code",
   "execution_count": null,
   "metadata": {
    "colab": {
     "base_uri": "https://localhost:8080/"
    },
    "id": "T7gDUAmqSBVb",
    "outputId": "25051506-4eab-443f-de93-fd178474027c"
   },
   "outputs": [],
   "source": [
    "li = os.listdir(\"/content/drive/MyDrive/nlpyang/PreSumm-master/custom_tokenized\")\n",
    "len(li)"
   ]
  },
  {
   "cell_type": "code",
   "execution_count": null,
   "metadata": {
    "colab": {
     "base_uri": "https://localhost:8080/"
    },
    "id": "j9D0GJE6k6IP",
    "outputId": "5be6c30a-59d6-479f-8c98-ba278c96f2d1"
   },
   "outputs": [],
   "source": [
    "!python /content/drive/MyDrive/nlpyang/PreSumm-master/src/preprocess.py -mode format_to_lines -raw_path /content/drive/MyDrive/nlpyang/PreSumm-master/custom_tokenized -save_path /content/drive/MyDrive/nlpyang/PreSumm-master/json_data/cnndm -n_cpus 1 -use_bert_basic_tokenizer false"
   ]
  },
  {
   "cell_type": "code",
   "execution_count": null,
   "metadata": {
    "colab": {
     "base_uri": "https://localhost:8080/"
    },
    "id": "9VL0ahxJqi_U",
    "outputId": "d071947c-7284-4f42-cfb5-efad9f668da2"
   },
   "outputs": [],
   "source": [
    "!python /content/drive/MyDrive/nlpyang/PreSumm-master/src/preprocess.py -mode format_to_bert -raw_path /content/drive/MyDrive/nlpyang/PreSumm-master/json_data -save_path /content/drive/MyDrive/nlpyang/PreSumm-master/Step5  -lower -n_cpus 1 -log_file /content/drive/MyDrive/nlpyang/PreSumm-master/logs/preprocess.log"
   ]
  },
  {
   "cell_type": "code",
   "execution_count": null,
   "metadata": {
    "id": "a0oVoROcWLVw"
   },
   "outputs": [],
   "source": [
    "#Adding a [CLS][SEP] between all consecutive lines in a document as a part of preprocessing\n",
    "\n",
    "with open(\"/content/drive/MyDrive/summarization/raw input/navigation_amazon_kindle.txt.data\") as f1:\n",
    "    with open(\"/content/drive/MyDrive/summarization/raw input/navigation_amazon_kindle_ext2.txt.data\",'w') as f2:\n",
    "      for line in f1:\n",
    "        lines = line.split('.')[0]\n",
    "        f2.write(\" \" + \"[CLS]\" + \" \" + \"[SEP]\" + \" \" + lines + \".\")"
   ]
  },
  {
   "cell_type": "code",
   "execution_count": null,
   "metadata": {
    "colab": {
     "base_uri": "https://localhost:8080/"
    },
    "id": "BnCl_S3AXM2_",
    "outputId": "6a3e407c-48b4-4d3b-ee8b-a1c0c1b5b8a2"
   },
   "outputs": [],
   "source": [
    "print(lines)"
   ]
  },
  {
   "cell_type": "code",
   "execution_count": null,
   "metadata": {
    "id": "eLhvig_yXOY1"
   },
   "outputs": [],
   "source": []
  },
  {
   "cell_type": "code",
   "execution_count": null,
   "metadata": {
    "colab": {
     "base_uri": "https://localhost:8080/"
    },
    "id": "MUU3boagn-ug",
    "outputId": "b8ffdc43-19af-4310-fb53-3ed6f4f48f41"
   },
   "outputs": [],
   "source": [
    "from google.colab import drive\n",
    "drive.mount('/content/drive')"
   ]
  },
  {
   "cell_type": "code",
   "execution_count": null,
   "metadata": {
    "colab": {
     "base_uri": "https://localhost:8080/"
    },
    "id": "spuRrrv-u2mi",
    "outputId": "ec0f19ea-d552-4c57-9341-2f63a952faee"
   },
   "outputs": [],
   "source": [
    "pip install pytorch_transformers"
   ]
  },
  {
   "cell_type": "code",
   "execution_count": null,
   "metadata": {
    "colab": {
     "base_uri": "https://localhost:8080/"
    },
    "id": "6u70w1rnopI_",
    "outputId": "030f87e0-1171-4d3a-a2dc-70c154b92496"
   },
   "outputs": [],
   "source": [
    "pip install tensorboardX"
   ]
  },
  {
   "cell_type": "code",
   "execution_count": null,
   "metadata": {
    "colab": {
     "base_uri": "https://localhost:8080/"
    },
    "id": "psFecNaUrjjV",
    "outputId": "5a76f839-5813-4eda-91e1-e2381b038cef"
   },
   "outputs": [],
   "source": [
    "pip install torch==1.1.0"
   ]
  },
  {
   "cell_type": "code",
   "execution_count": null,
   "metadata": {
    "colab": {
     "base_uri": "https://localhost:8080/"
    },
    "id": "i-ReRuf8pPYq",
    "outputId": "70d3acc3-20a2-4ad6-9ccf-3581870baca9"
   },
   "outputs": [],
   "source": [
    "pip install pyrouge"
   ]
  },
  {
   "cell_type": "code",
   "execution_count": null,
   "metadata": {
    "colab": {
     "background_save": true,
     "base_uri": "https://localhost:8080/"
    },
    "id": "90wc2rtOuHy_",
    "outputId": "b575f7d1-699a-4304-dd8c-d9e45a0a6b35"
   },
   "outputs": [],
   "source": [
    "!python /content/drive/MyDrive/nlpyang/PreSumm-master/src/train.py -task ext -mode train -bert_data_path /content/drive/MyDrive/nlpyang/PreSumm-master/Step5/cnndm -ext_dropout 0.1 -model_path /content/drive/MyDrive/nlpyang/PreSumm-master/CUSTOM_MODEL -lr 2e-3 -visible_gpus 0 -report_every 50 -save_checkpoint_steps 1000 -batch_size 300 -train_steps 10000 -accum_count 5 -log_file /content/drive/MyDrive/nlpyang/PreSumm-master/logs/custom -use_interval true -warmup_steps 10000 -max_pos 512"
   ]
  },
  {
   "cell_type": "code",
   "execution_count": null,
   "metadata": {
    "colab": {
     "base_uri": "https://localhost:8080/"
    },
    "id": "1391GaCy3TM7",
    "outputId": "070a992f-5128-4c47-d8ba-8cdfbda03d97"
   },
   "outputs": [],
   "source": [
    "!python /content/drive/MyDrive/nlpyang/PreSumm-dev/src/train.py -task ext -mode test_text -text_src /content/drive/MyDrive/nlpyang/PreSumm-dev/raw_data/temp_ext.raw_src -result_path /content/drive/MyDrive/nlpyang/PreSumm-dev/raw_data/output_2.txt -test_from /content/drive/MyDrive/nlpyang/PreSumm-master/MODEL_PATH/model_step_10000.pt"
   ]
  },
  {
   "cell_type": "code",
   "execution_count": null,
   "metadata": {
    "colab": {
     "base_uri": "https://localhost:8080/"
    },
    "id": "I_VsSuhTJ1aO",
    "outputId": "3645ecf6-0989-490a-adf5-6ca882cf2f7a"
   },
   "outputs": [],
   "source": [
    "!python /content/drive/MyDrive/nlpyang/PreSumm-master/src/train.py -task ext -mode test -batch_size 3000 -test_batch_size 50 -bert_data_path /content/drive/MyDrive/nlpyang/PreSumm-master/bert_data/_test/cnndm -log_file /logs/val_abs_bert_cnndm -model_path /content/drive/MyDrive/nlpyang/PreSumm-master/MODEL_PATH -test_from /content/drive/MyDrive/nlpyang/PreSumm-master/MODEL_PATH/model_step_10000.pt -sep_optim true -use_interval true -visible_gpus 0 -max_pos 512 -max_length 200 -alpha 0.95 -min_length 50 -result_path /logs/abs_bert_cnndm \n"
   ]
  },
  {
   "cell_type": "code",
   "execution_count": null,
   "metadata": {
    "colab": {
     "base_uri": "https://localhost:8080/"
    },
    "id": "79OeJtAu6peT",
    "outputId": "72b672ee-eeb5-4797-b5c2-91eb6591aaa3"
   },
   "outputs": [],
   "source": [
    "pip install tensorboard"
   ]
  }
 ],
 "metadata": {
  "colab": {
   "collapsed_sections": [],
   "name": "task4_customdataset.ipynb",
   "provenance": []
  },
  "kernelspec": {
   "display_name": "Python 3",
   "language": "python",
   "name": "python3"
  },
  "language_info": {
   "codemirror_mode": {
    "name": "ipython",
    "version": 3
   },
   "file_extension": ".py",
   "mimetype": "text/x-python",
   "name": "python",
   "nbconvert_exporter": "python",
   "pygments_lexer": "ipython3",
   "version": "3.7.6"
  }
 },
 "nbformat": 4,
 "nbformat_minor": 1
}
