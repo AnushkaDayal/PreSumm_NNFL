{
 "cells": [
  {
   "cell_type": "markdown",
   "metadata": {},
   "source": [
    "# Calculating the ROUGE Score"
   ]
  },
  {
   "cell_type": "code",
   "execution_count": null,
   "metadata": {},
   "outputs": [],
   "source": [
    "#Setting up the pyrouge and ROUGE library\n",
    "\n",
    "!git clone https://github.com/andersjo/pyrouge.git rouge\n",
    "!git clone https://github.com/bheinzerling/pyrouge"
   ]
  },
  {
   "cell_type": "code",
   "execution_count": null,
   "metadata": {
    "id": "ruvfngvKiVpJ"
   },
   "outputs": [],
   "source": [
    "#Steps for installation and testing the Pyrouge library\n",
    "!cd pyrouge/\n",
    "!python setup.py install\n",
    "!pyrouge_set_rouge_path '/content/rouge/tools/ROUGE-1.5.5'\n",
    "!cd ../rouge/tools/ROUGE-1.5.5/data\n",
    "!rm \"WordNet-2.0.exc.db\"\n",
    "!perl ./WordNet-2.0-Exceptions/buildExeptionDB.pl ./WordNet-2.0-Exceptions ./smart_common_words.txt ./WordNet-2.0.exc.db\n",
    "!cpan install XML::DOM\n",
    "!python -m pyrouge.test"
   ]
  },
  {
   "cell_type": "markdown",
   "metadata": {
    "id": "wEgD-0aqgFJR"
   },
   "source": [
    "### ROUGE SCORE CALCULATION FOR MODEL TRAINED CUSTOM DATASET (BBC NEWS SUMMARIES)"
   ]
  },
  {
   "cell_type": "code",
   "execution_count": null,
   "metadata": {
    "id": "I_VsSuhTJ1aO"
   },
   "outputs": [],
   "source": [
    "#Set the paths indicated in ALL CAPS\n",
    "!python train.py -task ext -mode test -batch_size 3000 -test_batch_size 50 -bert_data_path BERT_DATA_PATH -log_file ../logs/eval_custom -model_path MODEL_PATH -test_from MODEL_CKPT_PATH -sep_optim true -use_interval true -visible_gpus 0 -max_pos 512 -max_length 200 -alpha 0.95 -min_length 50 -result_path RESULT_PATH \n"
   ]
  },
  {
   "cell_type": "markdown",
   "metadata": {
    "id": "fhxJYpxz03uR"
   },
   "source": [
    "### ROUGE SCORE CALCULATION FOR BERTSUMEXT"
   ]
  },
  {
   "cell_type": "code",
   "execution_count": null,
   "metadata": {
    "id": "2BhNMUYb3-bm"
   },
   "outputs": [],
   "source": [
    "#Set the paths indicated in ALL CAPS\n",
    "!python train.py -task ext -mode test -batch_size 3000 -test_batch_size 50 -bert_data_path BERT_DATA_PATH -log_file ../logs/eval_BertExt -model_path MODEL_PATH -test_from MODEL_CKPT_PATH -sep_optim true -use_interval true -visible_gpus 0 -max_pos 512 -max_length 200 -alpha 0.95 -min_length 50 -result_path RESULT_PATH\n"
   ]
  },
  {
   "cell_type": "markdown",
   "metadata": {
    "id": "rcR_gqHN4ipk"
   },
   "source": [
    "### ROUGE SCORE CALCULATION FOR BERTSUMEXTABS "
   ]
  },
  {
   "cell_type": "code",
   "execution_count": null,
   "metadata": {
    "id": "BFFRdrFc4iKi"
   },
   "outputs": [],
   "source": [
    "#Set the paths indicated in ALL CAPS\n",
    "!python train.py -task abs -mode test -batch_size 3000 -test_batch_size 50 -bert_data_path BERT_DATA_PATH -log_file ../logs/eval_BertExtABS -model_path MODEL_PATH -test_from MODEL_CKPT_PATH -sep_optim true -use_interval true -visible_gpus 0 -max_pos 512 -max_length 200 -alpha 0.95 -min_length 50 -result_path RESULT_PATH\n"
   ]
  }
 ],
 "metadata": {
  "accelerator": "GPU",
  "colab": {
   "collapsed_sections": [],
   "name": "Rouge_Score_Evaluation.ipynb",
   "provenance": []
  },
  "kernelspec": {
   "display_name": "Python 3",
   "language": "python",
   "name": "python3"
  },
  "language_info": {
   "codemirror_mode": {
    "name": "ipython",
    "version": 3
   },
   "file_extension": ".py",
   "mimetype": "text/x-python",
   "name": "python",
   "nbconvert_exporter": "python",
   "pygments_lexer": "ipython3",
   "version": "3.7.6"
  }
 },
 "nbformat": 4,
 "nbformat_minor": 1
}
