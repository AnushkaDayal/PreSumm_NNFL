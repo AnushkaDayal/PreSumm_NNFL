{
 "cells": [
  {
   "cell_type": "markdown",
   "metadata": {
    "id": "i4sHdbTN6IE3"
   },
   "source": [
    "## Model Training and Graph Plotting"
   ]
  },
  {
   "cell_type": "markdown",
   "metadata": {
    "id": "eA-hIiIc6K7R"
   },
   "source": [
    "Train the models and plot the relevant metrics(loss/F1/accuracy/etc) with respect to epochs\n",
    "\n"
   ]
  },
  {
   "cell_type": "code",
   "execution_count": null,
   "metadata": {
    "id": "X6fRDRDoar8T"
   },
   "outputs": [],
   "source": [
    "\"\"\"\n",
    " Generated using Tensorboard \n",
    "!tensorboard --logdirs = <MODEL_PATH> \n",
    "<MODEL_PATH> corresponds to the path of the trained model. \n",
    "\n",
    "\"\"\"\n"
   ]
  },
  {
   "cell_type": "markdown",
   "metadata": {
    "id": "91PDRVWBe9F0"
   },
   "source": [
    "[Plots](https://drive.google.com/drive/u/1/folders/1H_NFA59HUKC1jH_tJRk7dsdMEUhQz_CS)\n",
    "\n",
    "---\n",
    "\n"
   ]
  },
  {
   "cell_type": "markdown",
   "metadata": {
    "id": "aoJQX_Ai6OTv"
   },
   "source": [
    "## TASK 2"
   ]
  },
  {
   "cell_type": "markdown",
   "metadata": {
    "id": "vZ-7GHJ96T3n"
   },
   "source": [
    "Compute and report the Rouge scores for your trained model (results do not have to be the same as the paper)\n",
    "\n"
   ]
  },
  {
   "cell_type": "code",
   "execution_count": null,
   "metadata": {
    "colab": {
     "base_uri": "https://localhost:8080/"
    },
    "id": "5B3zM8uC8IdK",
    "outputId": "14696fa5-e031-4ecd-f08a-c25712a89f0c"
   },
   "outputs": [],
   "source": [
    "cd  /content/drive/MyDrive/nlpyang/PreSumm-master/src"
   ]
  },
  {
   "cell_type": "code",
   "execution_count": null,
   "metadata": {
    "colab": {
     "base_uri": "https://localhost:8080/"
    },
    "id": "nnmGq3M-ExnP",
    "outputId": "76d0be03-1cba-480f-9837-5272eede4113"
   },
   "outputs": [],
   "source": [
    "!python /content/drive/MyDrive/nlpyang/PreSumm-master/src/train.py -task abs -mode test -batch_size 3000 -test_batch_size 50 -bert_data_path /content/drive/MyDrive/nlpyang/PreSumm-master/bert_data/ad_test/cnndm -log_file /content/drive/MyDrive/nlpyang/PreSumm-master/logs/val_abs_bert_cnndm -model_path /content/drive/MyDrive/nlpyang/PreSumm-master/MODEL_PATH -test_from /content/drive/MyDrive/nlpyang/PreSumm-master/MODEL_PATH/model_step_10000.pt -sep_optim true -use_interval true -visible_gpus 0 -max_pos 512 -max_length 200 -alpha 0.95 -min_length 50 -result_path /logs/abs_bert_cnndm \n"
   ]
  },
  {
   "cell_type": "code",
   "execution_count": null,
   "metadata": {
    "colab": {
     "base_uri": "https://localhost:8080/"
    },
    "id": "q9tTdrPR6X_G",
    "outputId": "1bbb9c3b-f0a1-4c61-89a6-c0ac1592fd31"
   },
   "outputs": [],
   "source": [
    " !python train.py -task abs -mode validate -batch_size 3000 -test_batch_size 50 -bert_data_path /content/drive/MyDrive/nlpyang/PreSumm-master/bert_data/cnndm -log_file /content/drive/MyDrive/nlpyang/PreSumm-master/logs/val_abs_bert_cnndm -model_path /content/drive/MyDrive/nlpyang/PreSumm-master/MODEL_PATH/model_step_8000.pt -sep_optim true -use_interval true -visible_gpus 0 -max_pos 512 -max_length 200 -alpha 0.95 -min_length 50 \n"
   ]
  },
  {
   "cell_type": "code",
   "execution_count": null,
   "metadata": {
    "id": "29Mtta8c_-Zx"
   },
   "outputs": [],
   "source": [
    "-result_path /content/drive/MyDrive/nlpyang/PreSumm-master/logs/val_abs_bert_cnndm "
   ]
  },
  {
   "cell_type": "markdown",
   "metadata": {
    "id": "32K8GCwN8xSk"
   },
   "source": [
    "## TASK 3"
   ]
  },
  {
   "cell_type": "markdown",
   "metadata": {
    "id": "81pK5bPQ-gj7"
   },
   "source": [
    "Select 3-4 example articles and generate their summaries using your trained model - both extractive and abstractive\n",
    "\n"
   ]
  },
  {
   "cell_type": "code",
   "execution_count": null,
   "metadata": {
    "id": "rbL82wkbf70O"
   },
   "outputs": [],
   "source": [
    "# INPUT /content/drive/MyDrive/nlpyang/PreSumm-dev/raw_input \n",
    "# OUTPUT Abstractive: /content/drive/MyDrive/nlpyang/PreSumm-dev/logs \n",
    "#        Extractive : /content/drive/MyDrive/nlpyang/PreSumm-dev/raw_data"
   ]
  },
  {
   "cell_type": "markdown",
   "metadata": {
    "id": "RPHEMdL_UToW"
   },
   "source": [
    "### Generating Abstractive Summary"
   ]
  },
  {
   "cell_type": "code",
   "execution_count": null,
   "metadata": {
    "colab": {
     "base_uri": "https://localhost:8080/"
    },
    "id": "PxeL9w9c1w7v",
    "outputId": "308d32c1-aeff-47fb-b57b-d04cd8cd4609"
   },
   "outputs": [],
   "source": [
    "cd  /content/drive/MyDrive/nlpyang/PreSumm-dev/src"
   ]
  },
  {
   "cell_type": "code",
   "execution_count": null,
   "metadata": {
    "colab": {
     "base_uri": "https://localhost:8080/"
    },
    "id": "vWqNdHjovm2y",
    "outputId": "de31218e-11fe-4d54-ad15-18263b11e7c4"
   },
   "outputs": [],
   "source": [
    " !python train.py -task abs -mode test_text -batch_size 3000 -test_batch_size 500 -model_path /content/drive/MyDrive/nlpyang/PreSumm-dev/MODEL_PATH -sep_optim true -use_interval true -visible_gpus 0 -max_pos 512 -max_length 200 -alpha 0.95 -min_length 50 -result_path /content/drive/MyDrive/nlpyang/PreSumm-dev/logs/Abstractive_5/abs_bert_cnndm -text_src /content/drive/MyDrive/nlpyang/PreSumm-dev/raw_input/input5_abs_navigation_amazon_kindle.txt.data  -test_from /content/drive/MyDrive/nlpyang/PreSumm-dev/MODEL_PATH/model_step_8000.pt  \n"
   ]
  },
  {
   "cell_type": "code",
   "execution_count": null,
   "metadata": {
    "id": "k9RU4AAxkKHT"
   },
   "outputs": [],
   "source": [
    "#-text_tgt /content/drive/MyDrive/nlpyang/PreSumm-dev/raw_input/checkinput1.txt "
   ]
  },
  {
   "cell_type": "markdown",
   "metadata": {
    "id": "ZmK5sqUaaaVm"
   },
   "source": [
    "Output Example"
   ]
  },
  {
   "cell_type": "code",
   "execution_count": null,
   "metadata": {
    "id": "0hNykOUhadJI"
   },
   "outputs": [],
   "source": [
    "\"\"\"\n",
    "INPUT 1  (PreSumm-dev --> raw_input --> input1_abs.txt)\n",
    "this Terry Jones had a love of the absurd that contributed much to the anarchic humour of Monty Python's Flying Circus. His style of visual comedy, leavened with a touch of the surreal, inspired many comedians who followed him. It was on Python that he honed his directing skills, notably on Life of Brian and The Meaning of Life. A keen historian, he wrote a number of books and fronted TV documentaries on ancient and medieval history. Terence Graham Parry Jones was born in Colwyn Bay in north Wales on 1 February 1942. His grandparents ran the local amateur operatic society and staged Gilbert and Sullivan concerts on the town's pier each year His family moved to Surrey when he was four but he always felt nostalgic about his native land. \"I couldn't bear it and for the longest time I wanted Wales back,\" he once said. \"I still feel very Welsh and feel it's where I should be really.\" After leaving the Royal Grammar School in Guildford, where he captained the school, he went on to read English at St Edmund Hall, Oxford. However, as he put it, he \"strayed into history\", the subject in which he graduated. While at Oxford he wrote sketches for the Oxford Revue and performed alongside a fellow student, Michael Palin.\n",
    "(CNN) An Iranian chess referee says she is frightened to return home after she was criticized online for not wearing the appropriate headscarf during an international tournament. Currently the chief adjudicator at the Women's World Chess Championship held in Russia and China, Shohreh Bayat says she fears arrest after a photograph of her was taken during the event and was then circulated online in Iran. \"They are very sensitive about the hijab when we are representing Iran in international events and even sometimes they send a person with the team to control our hijab,\" Bayat told CNN Sport in a phone interview Tuesday. The headscarf, or the hijab, has been a mandatory part of women's dress in Iran since the 1979 Islamic revolution but, in recent years, some women have mounted opposition and staged protests about headwear rules. Bayat said she had been wearing a headscarf at the tournament but that certain camera angles had made it look like she was not. \"If I come back to Iran, I think there are a few possibilities. It is highly possible that they arrest me [...] or it is possible that they invalidate my passport,\" added Bayat. \"I think they want to make an example of me.\" The photographs were taken at the first stage of the chess championship in Shanghai, China, but Bayat has since flown to Vladivostok, Russia, for the second leg between Ju Wenjun and Aleksandra Goryachkina. She was left \"panicked and shocked\" when she became aware of the reaction in Iran after checking her phone in the hotel room. The 32-year-old said she felt helpless as websites reportedly condemned her for what some described as protesting the country's compulsory law. Subsequently, Bayat has decided to no longer wear the headscarf. \"I'm not wearing it anymore because what is the point? I was just tolerating it, I don't believe in the hijab,\" she added. \"People must be free to choose to wear what they want, and I was only wearing the hijab because I live in Iran and I had to wear it. I had no other choice.\" Bayat says she sought help from the country's chess federation. She says the federation told her to post an apology on her social media channels. She agreed under the condition that the federation would guarantee her safety but she said they refused. \"My husband is in Iran, my parents are in Iran, all my family members are in Iran. I don't have anyone else outside of Iran. I don't know what to say, this is a very hard situation,\" she said. CNN contacted the Iranian Chess Federation on Tuesday but has yet to receive a response.\n",
    "\n",
    "OUTPUT 1 (Abstractively summarized) (Presumm-dev --> logs --> Abtractive_1 --> abs_bert_cnndn.-1.gold)\n",
    "this Terry Jones had a love of the absurd that contributed much to the anarchic humour of Monty Python's Flying Circus.\n",
    "An Iranian chess referee says she is frightened to return home after she was criticized online for not wearing the appropriate headscarf during an international tournament.\n",
    "\"\"\""
   ]
  },
  {
   "cell_type": "markdown",
   "metadata": {
    "id": "r_prayrDUmHe"
   },
   "source": [
    "## Generating Extractive Summary"
   ]
  },
  {
   "cell_type": "code",
   "execution_count": null,
   "metadata": {
    "id": "P498sheF70LN"
   },
   "outputs": [],
   "source": [
    "#To add a [CLS][SEP] between all consecutive lines in a document."
   ]
  },
  {
   "cell_type": "code",
   "execution_count": null,
   "metadata": {
    "id": "G-Ye0w4difuF"
   },
   "outputs": [],
   "source": [
    "with open(\"/content/drive/MyDrive/nlpyang/PreSumm-dev/raw_input/input5_abs_navigation_amazon_kindle.txt.data\") as f1:\n",
    "    with open(\"/content/drive/MyDrive/nlpyang/PreSumm-dev/raw_input/input5_ext.txt\",'w') as f2:\n",
    "      for line in f1:\n",
    "        lines = line.split('.')[0]\n",
    "        f2.write(\" \" + \"[CLS]\" + \" \" + \"[SEP]\" + \" \" + lines + \".\")"
   ]
  },
  {
   "cell_type": "code",
   "execution_count": null,
   "metadata": {
    "colab": {
     "base_uri": "https://localhost:8080/"
    },
    "id": "IVGTq1_ne9oY",
    "outputId": "077440cb-7a9d-4014-a469-1df6a56516f8"
   },
   "outputs": [],
   "source": [
    "cd  /content/drive/MyDrive/nlpyang/PreSumm-dev/src"
   ]
  },
  {
   "cell_type": "code",
   "execution_count": null,
   "metadata": {
    "colab": {
     "base_uri": "https://localhost:8080/"
    },
    "id": "ls6_vqQhxlGZ",
    "outputId": "0ef7c566-69e8-4060-d502-08e96dd28d5c"
   },
   "outputs": [],
   "source": [
    "!python /content/drive/MyDrive/nlpyang/PreSumm-dev/src/train.py -task ext -mode test_text -text_src /content/drive/MyDrive/nlpyang/PreSumm-dev/raw_input/input5_ext.txt -result_path /content/drive/MyDrive/nlpyang/PreSumm-dev/raw_data/Extractive_5/output5_ext.txt -test_from /content/drive/MyDrive/nlpyang/PreSumm-master/MODEL_PATH/model_step_10000.pt"
   ]
  },
  {
   "cell_type": "markdown",
   "metadata": {
    "id": "oAk_huOE7u_k"
   },
   "source": [
    "Output Example"
   ]
  },
  {
   "cell_type": "code",
   "execution_count": null,
   "metadata": {
    "id": "-xrbNMsahZKl"
   },
   "outputs": [],
   "source": [
    "\"\"\"\n",
    "INPUT 1  (PreSumm-dev --> raw_input --> input1_ext.txt)\n",
    "this Terry Jones had a love of the absurd that contributed much to the anarchic humour of Monty Python's Flying Circus. His style of visual comedy, leavened with a touch of the surreal, inspired many comedians who followed him. It was on Python that he honed his directing skills, notably on Life of Brian and The Meaning of Life. A keen historian, he wrote a number of books and fronted TV documentaries on ancient and medieval history. Terence Graham Parry Jones was born in Colwyn Bay in north Wales on 1 February 1942. His grandparents ran the local amateur operatic society and staged Gilbert and Sullivan concerts on the town's pier each year His family moved to Surrey when he was four but he always felt nostalgic about his native land. \"I couldn't bear it and for the longest time I wanted Wales back,\" he once said. \"I still feel very Welsh and feel it's where I should be really.\" After leaving the Royal Grammar School in Guildford, where he captained the school, he went on to read English at St Edmund Hall, Oxford. However, as he put it, he \"strayed into history\", the subject in which he graduated. While at Oxford he wrote sketches for the Oxford Revue and performed alongside a fellow student, Michael Palin.\n",
    "(CNN) An Iranian chess referee says she is frightened to return home after she was criticized online for not wearing the appropriate headscarf during an international tournament. Currently the chief adjudicator at the Women's World Chess Championship held in Russia and China, Shohreh Bayat says she fears arrest after a photograph of her was taken during the event and was then circulated online in Iran. \"They are very sensitive about the hijab when we are representing Iran in international events and even sometimes they send a person with the team to control our hijab,\" Bayat told CNN Sport in a phone interview Tuesday. The headscarf, or the hijab, has been a mandatory part of women's dress in Iran since the 1979 Islamic revolution but, in recent years, some women have mounted opposition and staged protests about headwear rules. Bayat said she had been wearing a headscarf at the tournament but that certain camera angles had made it look like she was not. \"If I come back to Iran, I think there are a few possibilities. It is highly possible that they arrest me [...] or it is possible that they invalidate my passport,\" added Bayat. \"I think they want to make an example of me.\" The photographs were taken at the first stage of the chess championship in Shanghai, China, but Bayat has since flown to Vladivostok, Russia, for the second leg between Ju Wenjun and Aleksandra Goryachkina. She was left \"panicked and shocked\" when she became aware of the reaction in Iran after checking her phone in the hotel room. The 32-year-old said she felt helpless as websites reportedly condemned her for what some described as protesting the country's compulsory law. Subsequently, Bayat has decided to no longer wear the headscarf. \"I'm not wearing it anymore because what is the point? I was just tolerating it, I don't believe in the hijab,\" she added. \"People must be free to choose to wear what they want, and I was only wearing the hijab because I live in Iran and I had to wear it. I had no other choice.\" Bayat says she sought help from the country's chess federation. She says the federation told her to post an apology on her social media channels. She agreed under the condition that the federation would guarantee her safety but she said they refused. \"My husband is in Iran, my parents are in Iran, all my family members are in Iran. I don't have anyone else outside of Iran. I don't know what to say, this is a very hard situation,\" she said. CNN contacted the Iranian Chess Federation on Tuesday but has yet to receive a response.\n",
    "\n",
    "OUTPUT 1 (Abstractively summarized) (Presumm-dev --> raw_data --> Extractive_1 --> output1_ext.txt_step-1.candidate )\n",
    "this Terry Jones had a love of the absurd that contributed much to the anarchic humour of Monty Python's Flying Circus.\n",
    "An Iranian chess referee says she is frightened to return home after she was criticized online for not wearing the appropriate headscarf during an international tournament.\n",
    "\"\"\""
   ]
  },
  {
   "cell_type": "markdown",
   "metadata": {
    "id": "syYFIEoR_HKP"
   },
   "source": [
    "## TASK 4"
   ]
  },
  {
   "cell_type": "markdown",
   "metadata": {
    "id": "5Q615EPC_Nvn"
   },
   "source": [
    "Use a custom summarization dataset of your choice, train the model on this data and report your findings\n"
   ]
  },
  {
   "cell_type": "code",
   "execution_count": null,
   "metadata": {
    "id": "CK7-Qvkn_LuP"
   },
   "outputs": [],
   "source": []
  }
 ],
 "metadata": {
  "accelerator": "GPU",
  "colab": {
   "collapsed_sections": [],
   "name": "Text_Summarization_Pretrained_Encoders.ipynb",
   "provenance": [],
   "toc_visible": true
  },
  "kernelspec": {
   "display_name": "Python 3",
   "language": "python",
   "name": "python3"
  },
  "language_info": {
   "codemirror_mode": {
    "name": "ipython",
    "version": 3
   },
   "file_extension": ".py",
   "mimetype": "text/x-python",
   "name": "python",
   "nbconvert_exporter": "python",
   "pygments_lexer": "ipython3",
   "version": "3.7.6"
  }
 },
 "nbformat": 4,
 "nbformat_minor": 1
}
