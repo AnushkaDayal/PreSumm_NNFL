{
 "cells": [
  {
   "cell_type": "code",
   "execution_count": null,
   "metadata": {
    "id": "LvqBgwl5STWc"
   },
   "outputs": [],
   "source": [
    "#Dependencies: \n",
    "\n",
    "#tensorboardX\n",
    "#torch==1.1.0\n",
    "#pytorch_transformers\n",
    "#multiprocess==0.70.9"
   ]
  },
  {
   "cell_type": "code",
   "execution_count": null,
   "metadata": {
    "id": "YIiA-lTTh0kx"
   },
   "outputs": [],
   "source": [
    "!git clone https://github.com/andersjo/pyrouge.git rouge\n",
    "!git clone https://github.com/bheinzerling/pyrouge"
   ]
  },
  {
   "cell_type": "code",
   "execution_count": null,
   "metadata": {
    "id": "ruvfngvKiVpJ"
   },
   "outputs": [],
   "source": [
    "cd pyrouge/"
   ]
  },
  {
   "cell_type": "code",
   "execution_count": null,
   "metadata": {
    "id": "wdC77rYFiand"
   },
   "outputs": [],
   "source": [
    "!python setup.py install\n",
    "!pyrouge_set_rouge_path '/content/rouge/tools/ROUGE-1.5.5'"
   ]
  },
  {
   "cell_type": "code",
   "execution_count": null,
   "metadata": {
    "id": "F7e8MGUiif49"
   },
   "outputs": [],
   "source": [
    "cd ../rouge/tools/ROUGE-1.5.5/data"
   ]
  },
  {
   "cell_type": "code",
   "execution_count": null,
   "metadata": {
    "id": "lRPTnLHIikMO"
   },
   "outputs": [],
   "source": [
    "!rm \"WordNet-2.0.exc.db\"\n",
    "!perl ./WordNet-2.0-Exceptions/buildExeptionDB.pl ./WordNet-2.0-Exceptions ./smart_common_words.txt ./WordNet-2.0.exc.db\n",
    "!cpan install XML::DOM"
   ]
  },
  {
   "cell_type": "code",
   "execution_count": null,
   "metadata": {
    "id": "OmmlEJfKiqPZ"
   },
   "outputs": [],
   "source": [
    "!python -m pyrouge.test"
   ]
  },
  {
   "cell_type": "markdown",
   "metadata": {
    "id": "wEgD-0aqgFJR"
   },
   "source": [
    "ROUGE SCORE CALCULATION FOR MODEL TRAINED CUSTOM DATASET (BBC NEWS SUMMARIES)"
   ]
  },
  {
   "cell_type": "code",
   "execution_count": null,
   "metadata": {
    "id": "I_VsSuhTJ1aO"
   },
   "outputs": [],
   "source": [
    "!python /content/drive/MyDrive/nlpyang/PreSumm-master/src/train.py -task ext -mode test -batch_size 3000 -test_batch_size 50 -bert_data_path /content/drive/MyDrive/nlpyang/PreSumm-master/bert_data/_test/cnndm -log_file /content/drive/MyDrive/nlpyang/PreSumm-master/logs/eval_custom -model_path /content/drive/MyDrive/nlpyang/PreSumm-master/CUSTOM_MODEL -test_from /content/drive/MyDrive/nlpyang/PreSumm-master/CUSTOM_MODEL/model_step_10000.pt -sep_optim true -use_interval true -visible_gpus 0 -max_pos 512 -max_length 200 -alpha 0.95 -min_length 50 -result_path /content/drive/MyDrive/nlpyang/PreSumm-master/rouge/result \n"
   ]
  },
  {
   "cell_type": "markdown",
   "metadata": {
    "id": "fhxJYpxz03uR"
   },
   "source": [
    "ROUGE SCORE CALCULATION FOR BERTEXT"
   ]
  },
  {
   "cell_type": "code",
   "execution_count": null,
   "metadata": {
    "id": "2BhNMUYb3-bm"
   },
   "outputs": [],
   "source": [
    "!python /content/drive/MyDrive/nlpyang/PreSumm-master/src/train.py -task ext -mode test -batch_size 3000 -test_batch_size 50 -bert_data_path /content/drive/MyDrive/nlpyang/PreSumm-master/bert_data/_test/cnndm -log_file /content/drive/MyDrive/nlpyang/PreSumm-master/logs/eval_BertExt -model_path /content/drive/MyDrive/nlpyang/Model_Checkpoints/BertExt -test_from /content/drive/MyDrive/nlpyang/Model_Checkpoints/BertExt/model_step_50000.pt -sep_optim true -use_interval true -visible_gpus 0 -max_pos 512 -max_length 200 -alpha 0.95 -min_length 50 -result_path /content/drive/MyDrive/nlpyang/PreSumm-master/rouge/result_BertExt\n"
   ]
  },
  {
   "cell_type": "markdown",
   "metadata": {
    "id": "rcR_gqHN4ipk"
   },
   "source": [
    "ROUGE SCORE CALCULATION FOR BERTEXTABS (Approx. 5 hours to compute)"
   ]
  },
  {
   "cell_type": "code",
   "execution_count": null,
   "metadata": {
    "id": "BFFRdrFc4iKi"
   },
   "outputs": [],
   "source": [
    "!python /content/drive/MyDrive/nlpyang/PreSumm-master/src/train.py -task abs -mode test -batch_size 3000 -test_batch_size 50 -bert_data_path /content/drive/MyDrive/nlpyang/PreSumm-master/bert_data/_test/cnndm -log_file /content/drive/MyDrive/nlpyang/PreSumm-master/logs/eval_BertExtABS -model_path /content/drive/MyDrive/nlpyang/Model_Checkpoints/BertExtAbs -test_from /content/drive/MyDrive/nlpyang/Model_Checkpoints/BertExtAbs/model_step_8000.pt -sep_optim true -use_interval true -visible_gpus 0 -max_pos 512 -max_length 200 -alpha 0.95 -min_length 50 -result_path /content/drive/MyDrive/nlpyang/PreSumm-master/rouge/result_BertExtAbs\n"
   ]
  }
 ],
 "metadata": {
  "accelerator": "GPU",
  "colab": {
   "collapsed_sections": [],
   "name": "Rouge_Score_Evaluation.ipynb",
   "provenance": []
  },
  "kernelspec": {
   "display_name": "Python 3",
   "language": "python",
   "name": "python3"
  },
  "language_info": {
   "codemirror_mode": {
    "name": "ipython",
    "version": 3
   },
   "file_extension": ".py",
   "mimetype": "text/x-python",
   "name": "python",
   "nbconvert_exporter": "python",
   "pygments_lexer": "ipython3",
   "version": "3.7.6"
  }
 },
 "nbformat": 4,
 "nbformat_minor": 1
}
